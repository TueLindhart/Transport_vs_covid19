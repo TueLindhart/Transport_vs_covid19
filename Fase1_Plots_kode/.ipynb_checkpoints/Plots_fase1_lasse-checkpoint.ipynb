{
 "cells": [
  {
   "cell_type": "code",
   "execution_count": 1,
   "metadata": {
    "colab": {
     "base_uri": "https://localhost:8080/",
     "height": 17
    },
    "colab_type": "code",
    "executionInfo": {
     "elapsed": 3755,
     "status": "ok",
     "timestamp": 1587651284225,
     "user": {
      "displayName": "Lasse Hassel-Pflugh",
      "photoUrl": "",
      "userId": "04752689221383587585"
     },
     "user_tz": -120
    },
    "id": "lxJN2JHeYVI9",
    "outputId": "9a76b163-701b-4ee9-8c0b-1cc8a578c0a8"
   },
   "outputs": [
    {
     "name": "stdout",
     "output_type": "stream",
     "text": [
      "Collecting chart_studio\n",
      "  Downloading chart_studio-1.1.0-py3-none-any.whl (64 kB)\n",
      "\u001b[K     |████████████████████████████████| 64 kB 1.5 MB/s eta 0:00:011\n",
      "\u001b[?25hRequirement already satisfied: requests in /Users/tuethomsen28/Anaconda/anaconda3/lib/python3.7/site-packages (from chart_studio) (2.23.0)\n",
      "Requirement already satisfied: retrying>=1.3.3 in /Users/tuethomsen28/Anaconda/anaconda3/lib/python3.7/site-packages (from chart_studio) (1.3.3)\n",
      "Requirement already satisfied: plotly in /Users/tuethomsen28/Anaconda/anaconda3/lib/python3.7/site-packages (from chart_studio) (4.6.0)\n",
      "Requirement already satisfied: six in /Users/tuethomsen28/Anaconda/anaconda3/lib/python3.7/site-packages (from chart_studio) (1.14.0)\n",
      "Requirement already satisfied: urllib3!=1.25.0,!=1.25.1,<1.26,>=1.21.1 in /Users/tuethomsen28/Anaconda/anaconda3/lib/python3.7/site-packages (from requests->chart_studio) (1.25.8)\n",
      "Requirement already satisfied: certifi>=2017.4.17 in /Users/tuethomsen28/Anaconda/anaconda3/lib/python3.7/site-packages (from requests->chart_studio) (2020.4.5.1)\n",
      "Requirement already satisfied: chardet<4,>=3.0.2 in /Users/tuethomsen28/Anaconda/anaconda3/lib/python3.7/site-packages (from requests->chart_studio) (3.0.4)\n",
      "Requirement already satisfied: idna<3,>=2.5 in /Users/tuethomsen28/Anaconda/anaconda3/lib/python3.7/site-packages (from requests->chart_studio) (2.9)\n",
      "Installing collected packages: chart-studio\n",
      "Successfully installed chart-studio-1.1.0\n",
      "Note: you may need to restart the kernel to use updated packages.\n"
     ]
    }
   ],
   "source": [
    "pip install chart_studio"
   ]
  },
  {
   "cell_type": "code",
   "execution_count": 1,
   "metadata": {
    "colab": {
     "base_uri": "https://localhost:8080/",
     "height": 17
    },
    "colab_type": "code",
    "executionInfo": {
     "elapsed": 1243,
     "status": "ok",
     "timestamp": 1587652079987,
     "user": {
      "displayName": "Lasse Hassel-Pflugh",
      "photoUrl": "",
      "userId": "04752689221383587585"
     },
     "user_tz": -120
    },
    "id": "Zuoda72CZDlM",
    "outputId": "698f65c0-50d7-4733-abcc-5562033acd58"
   },
   "outputs": [
    {
     "ename": "ModuleNotFoundError",
     "evalue": "No module named 'cufflinks'",
     "output_type": "error",
     "traceback": [
      "\u001b[0;31m---------------------------------------------------------------------------\u001b[0m",
      "\u001b[0;31mModuleNotFoundError\u001b[0m                       Traceback (most recent call last)",
      "\u001b[0;32m<ipython-input-1-3c39e6269463>\u001b[0m in \u001b[0;36m<module>\u001b[0;34m\u001b[0m\n\u001b[1;32m     10\u001b[0m \u001b[0;32mfrom\u001b[0m \u001b[0mplotly\u001b[0m\u001b[0;34m.\u001b[0m\u001b[0moffline\u001b[0m \u001b[0;32mimport\u001b[0m \u001b[0miplot\u001b[0m\u001b[0;34m,\u001b[0m \u001b[0minit_notebook_mode\u001b[0m\u001b[0;34m\u001b[0m\u001b[0;34m\u001b[0m\u001b[0m\n\u001b[1;32m     11\u001b[0m \u001b[0;31m# Using plotly + cufflinks in offline mode\u001b[0m\u001b[0;34m\u001b[0m\u001b[0;34m\u001b[0m\u001b[0;34m\u001b[0m\u001b[0m\n\u001b[0;32m---> 12\u001b[0;31m \u001b[0;32mimport\u001b[0m \u001b[0mcufflinks\u001b[0m\u001b[0;34m\u001b[0m\u001b[0;34m\u001b[0m\u001b[0m\n\u001b[0m\u001b[1;32m     13\u001b[0m \u001b[0mcufflinks\u001b[0m\u001b[0;34m.\u001b[0m\u001b[0mgo_offline\u001b[0m\u001b[0;34m(\u001b[0m\u001b[0mconnected\u001b[0m\u001b[0;34m=\u001b[0m\u001b[0;32mTrue\u001b[0m\u001b[0;34m)\u001b[0m\u001b[0;34m\u001b[0m\u001b[0;34m\u001b[0m\u001b[0m\n\u001b[1;32m     14\u001b[0m \u001b[0minit_notebook_mode\u001b[0m\u001b[0;34m(\u001b[0m\u001b[0mconnected\u001b[0m\u001b[0;34m=\u001b[0m\u001b[0;32mTrue\u001b[0m\u001b[0;34m)\u001b[0m\u001b[0;34m\u001b[0m\u001b[0;34m\u001b[0m\u001b[0m\n",
      "\u001b[0;31mModuleNotFoundError\u001b[0m: No module named 'cufflinks'"
     ]
    }
   ],
   "source": [
    "import pandas as pd\n",
    "from bokeh.io import show, output_notebook\n",
    "from bokeh.plotting import figure\n",
    "from bokeh.models import ColumnDataSource, FactorRange, Legend, HoverTool\n",
    "from bokeh.transform import dodge\n",
    "import bokeh.palettes\n",
    "# Standard plotly imports\n",
    "import chart_studio.plotly as py\n",
    "import plotly.graph_objs as go\n",
    "from plotly.offline import iplot, init_notebook_mode\n",
    "# Using plotly + cufflinks in offline mode\n",
    "import cufflinks\n",
    "cufflinks.go_offline(connected=True)\n",
    "init_notebook_mode(connected=True)"
   ]
  },
  {
   "cell_type": "code",
   "execution_count": null,
   "metadata": {
    "colab": {},
    "colab_type": "code",
    "id": "INIOA1GAbkZm"
   },
   "outputs": [],
   "source": [
    "# Code to read csv file into Colaboratory:\n",
    "!pip install -U -q PyDrive\n",
    "from pydrive.auth import GoogleAuth\n",
    "from pydrive.drive import GoogleDrive\n",
    "from google.colab import auth\n",
    "from oauth2client.client import GoogleCredentials\n",
    "\n",
    "# Authenticate and create the PyDrive client.\n",
    "auth.authenticate_user()\n",
    "gauth = GoogleAuth()\n",
    "gauth.credentials = GoogleCredentials.get_application_default()\n",
    "drive = GoogleDrive(gauth)\n",
    "\n",
    "link_feb = 'https://drive.google.com/open?id=1vZDH_QZmct3Z1BbYdIKrq3ZqhvSV4xAh'\n",
    "link_mar_apr = 'https://drive.google.com/open?id=16prdgB8ud13myHPlczGZpaa-BpUPpf35'\n",
    "\n",
    "fluff_feb, id_feb = link_feb.split('=')\n",
    "fluff_mar_apr, id_mar_apr = link_mar_apr.split('=')\n",
    "\n",
    "downloaded = drive.CreateFile({'id':id_feb}) \n",
    "downloaded.GetContentFile('Fremkommelighedsanalyse_med_fraktil_og_potentialeHast_Feb.csv')  \n",
    "df_feb = pd.read_csv('Fremkommelighedsanalyse_med_fraktil_og_potentialeHast_Feb.csv',sep=\";\",\n",
    "                 header= 2,index_col=False,decimal=\",\")\n",
    "\n",
    "downloaded = drive.CreateFile({'id':id_mar_apr}) \n",
    "downloaded.GetContentFile('Fremkommelighedsanalyse_med_fraktil_og_potentiale_Hast_MarApr.csv')  \n",
    "df_mar_apr = pd.read_csv('Fremkommelighedsanalyse_med_fraktil_og_potentiale_Hast_MarApr.csv',sep=\";\",\n",
    "                 header= 2,index_col=False,decimal=\",\")"
   ]
  },
  {
   "cell_type": "code",
   "execution_count": 0,
   "metadata": {
    "colab": {},
    "colab_type": "code",
    "id": "DNqNZis5ZCR8"
   },
   "outputs": [],
   "source": [
    "# Define the municipality of interest \n",
    "focus_municipality = ['Gentofte', 'Dragør', 'Frederiksberg', 'Lyngby-Taarbæk', 'Tårnby',\n",
    "                      'Gladsaxe', 'Herlev', 'Ballerup', 'Glostrup', 'København',\n",
    "                      'Hvidovre', 'Høje-Taastrup', 'Brøndby', 'Albertslund', 'Ishøj']\n",
    "\n",
    "# extract the data for average speed for the covid periode\n",
    "cols = ['StopPointSectionMunicipalityDisplayName','Hastighed_observeret__netto__km_t_','Hastighed_observeret__brutto__km_t_']\n",
    "df_mar_apr_avg_hast = df_mar_apr[df_mar_apr['StopPointSectionMunicipalityDisplayName'].isin(focus_municipality)][cols]\n",
    "\n",
    "df_mar_apr_avg_hast = df_mar_apr_avg_hast.groupby('StopPointSectionMunicipalityDisplayName', as_index=False).agg(['sum', 'count'])\n",
    "\n",
    "df_mar_apr_avg_hast['avg_speed_netto'] = df_mar_apr_avg_hast['Hastighed_observeret__netto__km_t_']['sum'].values/df_mar_apr_avg_hast['Hastighed_observeret__netto__km_t_']['count'].values\n",
    "df_mar_apr_avg_hast['avg_speed_brutto'] = df_mar_apr_avg_hast['Hastighed_observeret__brutto__km_t_']['sum'].values/df_mar_apr_avg_hast['Hastighed_observeret__brutto__km_t_']['count'].values\n",
    "\n",
    "df_mar_apr_avg_hast = df_mar_apr_avg_hast[['avg_speed_netto','avg_speed_brutto']]\n",
    "\n",
    "# extract the data for average speed febuar (prior to covid)\n",
    "df_feb_avg_hast = df_feb[df_feb['StopPointSectionMunicipalityDisplayName'].isin(focus_municipality)][cols]\n",
    "\n",
    "df_feb_avg_hast = df_feb_avg_hast.groupby('StopPointSectionMunicipalityDisplayName', as_index=False).agg(['sum', 'count'])\n",
    "\n",
    "df_feb_avg_hast['avg_speed_netto'] = df_feb_avg_hast['Hastighed_observeret__netto__km_t_']['sum'].values/df_feb_avg_hast['Hastighed_observeret__netto__km_t_']['count'].values\n",
    "df_feb_avg_hast['avg_speed_brutto'] = df_feb_avg_hast['Hastighed_observeret__brutto__km_t_']['sum'].values/df_feb_avg_hast['Hastighed_observeret__brutto__km_t_']['count'].values\n",
    "\n",
    "df_feb_avg_hast = df_feb_avg_hast[['avg_speed_netto','avg_speed_brutto']]\n",
    "\n",
    "# extract average length of stopping time for covid periode\n",
    "cols = ['StopPointSectionMunicipalityDisplayName','Opholdstid_observeret_ved_stop']\n",
    "df_mar_apr_stop_t = df_mar_apr[df_mar_apr['StopPointSectionMunicipalityDisplayName'].isin(focus_municipality)][cols]\n",
    "\n",
    "df_mar_apr_stop_t = df_mar_apr_stop_t.groupby('StopPointSectionMunicipalityDisplayName', as_index=False).agg(['sum', 'count'])\n",
    "\n",
    "df_mar_apr_stop_t['avg_stop_t'] = df_mar_apr_stop_t['Opholdstid_observeret_ved_stop']['sum'].values/df_mar_apr_stop_t['Opholdstid_observeret_ved_stop']['count'].values\n",
    "\n",
    "# extract average length of stopping time for febuar (prior to covid)\n",
    "df_feb_stop_t = df_feb[df_feb['StopPointSectionMunicipalityDisplayName'].isin(focus_municipality)][cols]\n",
    "\n",
    "df_feb_stop_t = df_feb_stop_t.groupby('StopPointSectionMunicipalityDisplayName', as_index=False).agg(['sum', 'count'])\n",
    "\n",
    "df_feb_stop_t['avg_stop_t'] = df_feb_stop_t['Opholdstid_observeret_ved_stop']['sum'].values/df_feb_stop_t['Opholdstid_observeret_ved_stop']['count'].values"
   ]
  },
  {
   "cell_type": "code",
   "execution_count": 20,
   "metadata": {
    "colab": {
     "base_uri": "https://localhost:8080/",
     "height": 110
    },
    "colab_type": "code",
    "executionInfo": {
     "elapsed": 1622,
     "status": "ok",
     "timestamp": 1587653222462,
     "user": {
      "displayName": "Lasse Hassel-Pflugh",
      "photoUrl": "",
      "userId": "04752689221383587585"
     },
     "user_tz": -120
    },
    "id": "1n0oRRs8Z1pK",
    "outputId": "5de27b2b-de27-4134-f5ac-67a25a88f8bb"
   },
   "outputs": [
    {
     "data": {
      "text/html": [
       "<div>\n",
       "<style scoped>\n",
       "    .dataframe tbody tr th:only-of-type {\n",
       "        vertical-align: middle;\n",
       "    }\n",
       "\n",
       "    .dataframe tbody tr th {\n",
       "        vertical-align: top;\n",
       "    }\n",
       "\n",
       "    .dataframe thead th {\n",
       "        text-align: right;\n",
       "    }\n",
       "</style>\n",
       "<table border=\"1\" class=\"dataframe\">\n",
       "  <thead>\n",
       "    <tr style=\"text-align: right;\">\n",
       "      <th></th>\n",
       "      <th>avg_speed_netto_feb</th>\n",
       "      <th>avg_speed_brutto_feb</th>\n",
       "      <th>avg_speed_netto_mar_apr</th>\n",
       "      <th>avg_speed_brutto_mar_apr</th>\n",
       "    </tr>\n",
       "    <tr>\n",
       "      <th>StopPointSectionMunicipalityDisplayName</th>\n",
       "      <th></th>\n",
       "      <th></th>\n",
       "      <th></th>\n",
       "      <th></th>\n",
       "    </tr>\n",
       "  </thead>\n",
       "  <tbody>\n",
       "    <tr>\n",
       "      <th>Albertslund</th>\n",
       "      <td>29.754983</td>\n",
       "      <td>26.508728</td>\n",
       "      <td>31.052764</td>\n",
       "      <td>28.439604</td>\n",
       "    </tr>\n",
       "  </tbody>\n",
       "</table>\n",
       "</div>"
      ],
      "text/plain": [
       "                                         avg_speed_netto_feb  ...  avg_speed_brutto_mar_apr\n",
       "StopPointSectionMunicipalityDisplayName                       ...                          \n",
       "Albertslund                                        29.754983  ...                 28.439604\n",
       "\n",
       "[1 rows x 4 columns]"
      ]
     },
     "execution_count": 20,
     "metadata": {
      "tags": []
     },
     "output_type": "execute_result"
    }
   ],
   "source": [
    "# joining avarage speed for febuar and covid periode\n",
    "df_feb_avg_hast.columns = ['avg_speed_netto_feb', 'avg_speed_brutto_feb']\n",
    "df_mar_apr_avg_hast.columns = ['avg_speed_netto_mar_apr', 'avg_speed_brutto_mar_apr']\n",
    "df_avg_hast = df_feb_avg_hast.merge(df_mar_apr_avg_hast, how = 'inner',left_index = True, right_index = True)\n",
    "df_avg_hast.head(n=1)"
   ]
  },
  {
   "cell_type": "code",
   "execution_count": 0,
   "metadata": {
    "colab": {},
    "colab_type": "code",
    "id": "egBurECLaLVy"
   },
   "outputs": [],
   "source": [
    "#Creating format fitting for bokeh\n",
    "source = ColumnDataSource(df_avg_hast[['avg_speed_brutto_feb','avg_speed_brutto_mar_apr']])"
   ]
  },
  {
   "cell_type": "code",
   "execution_count": 0,
   "metadata": {
    "colab": {},
    "colab_type": "code",
    "id": "Lj5Xy2ooaTgs"
   },
   "outputs": [],
   "source": [
    "#Creating a list for the x-axis on the bar-chart. \n",
    "x_range = list(df_avg_hast.index)"
   ]
  },
  {
   "cell_type": "code",
   "execution_count": 0,
   "metadata": {
    "colab": {},
    "colab_type": "code",
    "id": "mfxyuksKasMl"
   },
   "outputs": [],
   "source": [
    "#Generating colors for the each periode\n",
    "tmp = [0,1]\n",
    "colors = bokeh.palettes.Category20[3]"
   ]
  },
  {
   "cell_type": "code",
   "execution_count": 0,
   "metadata": {
    "colab": {},
    "colab_type": "code",
    "id": "hd9cQAV5bamJ"
   },
   "outputs": [],
   "source": [
    "bar ={}"
   ]
  },
  {
   "cell_type": "code",
   "execution_count": 0,
   "metadata": {
    "colab": {},
    "colab_type": "code",
    "id": "xsu3tGC1cPsu"
   },
   "outputs": [],
   "source": [
    "p = figure(x_range=FactorRange(factors=x_range),\n",
    "           title='Histogram of the distribution of crimes on hour of the day',\n",
    "           x_axis_label='Hour of day',\n",
    "           y_axis_label='Relative Frequency',\n",
    "           plot_width=950,plot_height=500,\n",
    "           toolbar_location=None)"
   ]
  },
  {
   "cell_type": "code",
   "execution_count": 0,
   "metadata": {
    "colab": {},
    "colab_type": "code",
    "id": "ZU1Xg9gli3bZ"
   },
   "outputs": [],
   "source": [
    "hast = ['hast_prior','hast_corona']\n",
    "for indx,i in enumerate(hast):\n",
    "    bar[i] = p.vbar(x=dodge('Hour',0.5),  top=i, source= source, width=0.8, \n",
    "                 fill_alpha=0.5,line_color=None,\n",
    "                 color=colors[indx],visible=False) "
   ]
  }
 ],
 "metadata": {
  "colab": {
   "authorship_tag": "ABX9TyN+ZPJrMAWMJo6avSbBKOlw",
   "collapsed_sections": [],
   "name": "Plots_fase1_lasse.ipynb",
   "provenance": []
  },
  "kernelspec": {
   "display_name": "Python 3",
   "language": "python",
   "name": "python3"
  },
  "language_info": {
   "codemirror_mode": {
    "name": "ipython",
    "version": 3
   },
   "file_extension": ".py",
   "mimetype": "text/x-python",
   "name": "python",
   "nbconvert_exporter": "python",
   "pygments_lexer": "ipython3",
   "version": "3.7.6"
  }
 },
 "nbformat": 4,
 "nbformat_minor": 1
}
