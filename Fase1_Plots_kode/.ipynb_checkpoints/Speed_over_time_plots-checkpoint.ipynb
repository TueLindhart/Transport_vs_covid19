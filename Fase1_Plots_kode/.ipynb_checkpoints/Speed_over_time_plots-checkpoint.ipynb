{
 "cells": [
  {
   "cell_type": "code",
   "execution_count": 1,
   "metadata": {},
   "outputs": [],
   "source": [
    "import pandas as pd\n",
    "import numpy as np\n",
    "import os\n",
    "import matplotlib.pyplot as plt"
   ]
  },
  {
   "cell_type": "code",
   "execution_count": 2,
   "metadata": {},
   "outputs": [
    {
     "data": {
      "text/html": [
       "<script src=\"https://cdn.rawgit.com/parente/4c3e6936d0d7a46fd071/raw/65b816fb9bdd3c28b4ddf3af602bfd6015486383/code_toggle.js\"></script>\n"
      ],
      "text/plain": [
       "<IPython.core.display.HTML object>"
      ]
     },
     "metadata": {},
     "output_type": "display_data"
    }
   ],
   "source": [
    "%%html\n",
    "<script src=\"https://cdn.rawgit.com/parente/4c3e6936d0d7a46fd071/raw/65b816fb9bdd3c28b4ddf3af602bfd6015486383/code_toggle.js\"></script>"
   ]
  },
  {
   "cell_type": "code",
   "execution_count": null,
   "metadata": {},
   "outputs": [],
   "source": [
    "#test"
   ]
  },
  {
   "cell_type": "code",
   "execution_count": 3,
   "metadata": {},
   "outputs": [
    {
     "data": {
      "text/plain": [
       "'/Users/tuethomsen28/Google Drev/SocialDataVizz/Transport_vs_covid19/Fase1_Plots_kode'"
      ]
     },
     "execution_count": 3,
     "metadata": {},
     "output_type": "execute_result"
    }
   ],
   "source": [
    "os.getcwd()"
   ]
  },
  {
   "cell_type": "code",
   "execution_count": 4,
   "metadata": {},
   "outputs": [],
   "source": [
    "sel_mun = [\"Albertslund\",\"Ballerup\",\"Brøndby\",\"Dragør\",\"Frederiksberg\",\"Gentofte\",\"Gladsaxe\",\n",
    "                           \"Glostrup\",\"Herlev\",\"Hvidovre\",\"Høje-Taastrup\",\"Ishøj\",\"København\",\n",
    "                           \"Rødovre\",\"Tårnby\",\"Vallensbæk\"]"
   ]
  },
  {
   "cell_type": "code",
   "execution_count": 5,
   "metadata": {},
   "outputs": [],
   "source": [
    "path = '/Users/tuethomsen28/Google Drev/SocialDataVizz/Data'\n",
    "\n",
    "df = pd.read_csv(os.path.join(path,'Hast_dagsbaseret_kommune.csv'),\n",
    "                 encoding='ISO8859-1',sep=\";\",engine=\"python\",decimal=\",\")\n",
    "\n",
    "df = df.rename(columns={\"Unnamed: 0\":\"Kommune\",\"Hastighed observeret, netto (km/t)\":\"Hast\",\n",
    "                        \"Rækkenavne\":\"Date\"})\n",
    "\n",
    "#df = df.set_index(\"Kommune\")"
   ]
  },
  {
   "cell_type": "code",
   "execution_count": 6,
   "metadata": {},
   "outputs": [
    {
     "data": {
      "text/html": [
       "<div>\n",
       "<style scoped>\n",
       "    .dataframe tbody tr th:only-of-type {\n",
       "        vertical-align: middle;\n",
       "    }\n",
       "\n",
       "    .dataframe tbody tr th {\n",
       "        vertical-align: top;\n",
       "    }\n",
       "\n",
       "    .dataframe thead th {\n",
       "        text-align: right;\n",
       "    }\n",
       "</style>\n",
       "<table border=\"1\" class=\"dataframe\">\n",
       "  <thead>\n",
       "    <tr style=\"text-align: right;\">\n",
       "      <th></th>\n",
       "      <th>Kommune</th>\n",
       "      <th>Date</th>\n",
       "      <th>Hast</th>\n",
       "    </tr>\n",
       "  </thead>\n",
       "  <tbody>\n",
       "    <tr>\n",
       "      <th>0</th>\n",
       "      <td>NaN</td>\n",
       "      <td>01-02-2020</td>\n",
       "      <td>86.67618581</td>\n",
       "    </tr>\n",
       "    <tr>\n",
       "      <th>1</th>\n",
       "      <td>Lyngby - Taarbæk</td>\n",
       "      <td>2</td>\n",
       "      <td>#NUM!</td>\n",
       "    </tr>\n",
       "    <tr>\n",
       "      <th>2</th>\n",
       "      <td>Lyngby - Taarbæk</td>\n",
       "      <td>3</td>\n",
       "      <td>#NUM!</td>\n",
       "    </tr>\n",
       "    <tr>\n",
       "      <th>3</th>\n",
       "      <td>Gladsaxe</td>\n",
       "      <td>6</td>\n",
       "      <td>#NUM!</td>\n",
       "    </tr>\n",
       "    <tr>\n",
       "      <th>4</th>\n",
       "      <td>Gladsaxe</td>\n",
       "      <td>8</td>\n",
       "      <td>#NUM!</td>\n",
       "    </tr>\n",
       "    <tr>\n",
       "      <th>...</th>\n",
       "      <td>...</td>\n",
       "      <td>...</td>\n",
       "      <td>...</td>\n",
       "    </tr>\n",
       "    <tr>\n",
       "      <th>1002647</th>\n",
       "      <td>#I/T</td>\n",
       "      <td>53650</td>\n",
       "      <td>24.00614139</td>\n",
       "    </tr>\n",
       "    <tr>\n",
       "      <th>1002648</th>\n",
       "      <td>#I/T</td>\n",
       "      <td>53653</td>\n",
       "      <td>21.57942857</td>\n",
       "    </tr>\n",
       "    <tr>\n",
       "      <th>1002649</th>\n",
       "      <td>#I/T</td>\n",
       "      <td>53654</td>\n",
       "      <td>13.07881711</td>\n",
       "    </tr>\n",
       "    <tr>\n",
       "      <th>1002650</th>\n",
       "      <td>#I/T</td>\n",
       "      <td>95683</td>\n",
       "      <td>#NUM!</td>\n",
       "    </tr>\n",
       "    <tr>\n",
       "      <th>1002651</th>\n",
       "      <td>#I/T</td>\n",
       "      <td>Hovedtotal</td>\n",
       "      <td>40.96794561</td>\n",
       "    </tr>\n",
       "  </tbody>\n",
       "</table>\n",
       "<p>1002652 rows × 3 columns</p>\n",
       "</div>"
      ],
      "text/plain": [
       "                  Kommune        Date         Hast\n",
       "0                     NaN  01-02-2020  86.67618581\n",
       "1        Lyngby - Taarbæk           2        #NUM!\n",
       "2        Lyngby - Taarbæk           3        #NUM!\n",
       "3                Gladsaxe           6        #NUM!\n",
       "4                Gladsaxe           8        #NUM!\n",
       "...                   ...         ...          ...\n",
       "1002647              #I/T       53650  24.00614139\n",
       "1002648              #I/T       53653  21.57942857\n",
       "1002649              #I/T       53654  13.07881711\n",
       "1002650              #I/T       95683        #NUM!\n",
       "1002651              #I/T  Hovedtotal  40.96794561\n",
       "\n",
       "[1002652 rows x 3 columns]"
      ]
     },
     "execution_count": 6,
     "metadata": {},
     "output_type": "execute_result"
    }
   ],
   "source": [
    "df"
   ]
  },
  {
   "cell_type": "markdown",
   "metadata": {},
   "source": [
    "## Inserting dates for each row"
   ]
  },
  {
   "cell_type": "code",
   "execution_count": 7,
   "metadata": {},
   "outputs": [],
   "source": [
    "idx = 0\n",
    "idx_on_dates = []\n",
    "for i in df.Date:\n",
    "    if len(str(i)) < 10:\n",
    "        pass\n",
    "    else:\n",
    "        idx_on_dates += [idx]\n",
    "    \n",
    "    idx += 1\n",
    "    \n",
    "for i in range(len(idx_on_dates)-1):\n",
    "    idx_start = idx_on_dates[i]+1\n",
    "    idx_end = idx_on_dates[i+1]\n",
    "    \n",
    "    df.Date[idx_start:idx_end] = df.Date[idx_start-1]\n",
    "\n",
    "    \n",
    "last_idx = len(df)-1\n",
    "df = df.drop([last_idx]) #Dropping last column named hovedtal\n"
   ]
  },
  {
   "cell_type": "markdown",
   "metadata": {},
   "source": [
    "## Date to timeseries"
   ]
  },
  {
   "cell_type": "code",
   "execution_count": 8,
   "metadata": {},
   "outputs": [],
   "source": [
    "df.Date = pd.to_datetime(df.Date,format = \"%d-%m-%Y\")"
   ]
  },
  {
   "cell_type": "code",
   "execution_count": 9,
   "metadata": {},
   "outputs": [
    {
     "data": {
      "text/html": [
       "<div>\n",
       "<style scoped>\n",
       "    .dataframe tbody tr th:only-of-type {\n",
       "        vertical-align: middle;\n",
       "    }\n",
       "\n",
       "    .dataframe tbody tr th {\n",
       "        vertical-align: top;\n",
       "    }\n",
       "\n",
       "    .dataframe thead th {\n",
       "        text-align: right;\n",
       "    }\n",
       "</style>\n",
       "<table border=\"1\" class=\"dataframe\">\n",
       "  <thead>\n",
       "    <tr style=\"text-align: right;\">\n",
       "      <th></th>\n",
       "      <th>Kommune</th>\n",
       "      <th>Date</th>\n",
       "      <th>Hast</th>\n",
       "    </tr>\n",
       "  </thead>\n",
       "  <tbody>\n",
       "    <tr>\n",
       "      <th>0</th>\n",
       "      <td>NaN</td>\n",
       "      <td>2020-02-01</td>\n",
       "      <td>86.67618581</td>\n",
       "    </tr>\n",
       "    <tr>\n",
       "      <th>1</th>\n",
       "      <td>Lyngby - Taarbæk</td>\n",
       "      <td>2020-02-01</td>\n",
       "      <td>#NUM!</td>\n",
       "    </tr>\n",
       "    <tr>\n",
       "      <th>2</th>\n",
       "      <td>Lyngby - Taarbæk</td>\n",
       "      <td>2020-02-01</td>\n",
       "      <td>#NUM!</td>\n",
       "    </tr>\n",
       "    <tr>\n",
       "      <th>3</th>\n",
       "      <td>Gladsaxe</td>\n",
       "      <td>2020-02-01</td>\n",
       "      <td>#NUM!</td>\n",
       "    </tr>\n",
       "    <tr>\n",
       "      <th>4</th>\n",
       "      <td>Gladsaxe</td>\n",
       "      <td>2020-02-01</td>\n",
       "      <td>#NUM!</td>\n",
       "    </tr>\n",
       "    <tr>\n",
       "      <th>...</th>\n",
       "      <td>...</td>\n",
       "      <td>...</td>\n",
       "      <td>...</td>\n",
       "    </tr>\n",
       "    <tr>\n",
       "      <th>1002646</th>\n",
       "      <td>#I/T</td>\n",
       "      <td>2020-04-21</td>\n",
       "      <td>19.69867074</td>\n",
       "    </tr>\n",
       "    <tr>\n",
       "      <th>1002647</th>\n",
       "      <td>#I/T</td>\n",
       "      <td>2020-04-21</td>\n",
       "      <td>24.00614139</td>\n",
       "    </tr>\n",
       "    <tr>\n",
       "      <th>1002648</th>\n",
       "      <td>#I/T</td>\n",
       "      <td>2020-04-21</td>\n",
       "      <td>21.57942857</td>\n",
       "    </tr>\n",
       "    <tr>\n",
       "      <th>1002649</th>\n",
       "      <td>#I/T</td>\n",
       "      <td>2020-04-21</td>\n",
       "      <td>13.07881711</td>\n",
       "    </tr>\n",
       "    <tr>\n",
       "      <th>1002650</th>\n",
       "      <td>#I/T</td>\n",
       "      <td>2020-04-21</td>\n",
       "      <td>#NUM!</td>\n",
       "    </tr>\n",
       "  </tbody>\n",
       "</table>\n",
       "<p>1002651 rows × 3 columns</p>\n",
       "</div>"
      ],
      "text/plain": [
       "                  Kommune       Date         Hast\n",
       "0                     NaN 2020-02-01  86.67618581\n",
       "1        Lyngby - Taarbæk 2020-02-01        #NUM!\n",
       "2        Lyngby - Taarbæk 2020-02-01        #NUM!\n",
       "3                Gladsaxe 2020-02-01        #NUM!\n",
       "4                Gladsaxe 2020-02-01        #NUM!\n",
       "...                   ...        ...          ...\n",
       "1002646              #I/T 2020-04-21  19.69867074\n",
       "1002647              #I/T 2020-04-21  24.00614139\n",
       "1002648              #I/T 2020-04-21  21.57942857\n",
       "1002649              #I/T 2020-04-21  13.07881711\n",
       "1002650              #I/T 2020-04-21        #NUM!\n",
       "\n",
       "[1002651 rows x 3 columns]"
      ]
     },
     "execution_count": 9,
     "metadata": {},
     "output_type": "execute_result"
    }
   ],
   "source": [
    "df"
   ]
  },
  {
   "cell_type": "markdown",
   "metadata": {},
   "source": [
    "## Sort out missing values"
   ]
  },
  {
   "cell_type": "code",
   "execution_count": null,
   "metadata": {
    "scrolled": true
   },
   "outputs": [],
   "source": [
    "df_processed = df[df[\"Hast\"] != \"#NUM!\"].dropna()\n",
    "df_processed = df_processed[df_processed.Kommune.isin(sel_mun)]"
   ]
  },
  {
   "cell_type": "markdown",
   "metadata": {},
   "source": [
    "# Creating Hast to float"
   ]
  },
  {
   "cell_type": "code",
   "execution_count": null,
   "metadata": {},
   "outputs": [],
   "source": [
    "df_processed.dtypes"
   ]
  },
  {
   "cell_type": "code",
   "execution_count": null,
   "metadata": {},
   "outputs": [],
   "source": [
    "df_processed.Hast = pd.to_numeric(df_processed.Hast)"
   ]
  },
  {
   "cell_type": "code",
   "execution_count": null,
   "metadata": {},
   "outputs": [],
   "source": [
    "df_processed.dtypes"
   ]
  },
  {
   "cell_type": "markdown",
   "metadata": {},
   "source": [
    "## Removing outliers\n"
   ]
  },
  {
   "cell_type": "code",
   "execution_count": null,
   "metadata": {},
   "outputs": [],
   "source": [
    "#Creating a range of numbers representing each data\n",
    "x_range = range(len(df_processed.Date.unique()))\n",
    "all_dates = df_processed.Date.to_numpy() #getting all the dates to list format\n",
    "dates = np.unique(all_dates) #get a unique set using set and afterwards convert to list and sort\n",
    "\n",
    "#Creating a range of numbers representing each data\n",
    "x_range = range(len(df_processed.Date.unique()))\n",
    "all_dates = df_processed.Date.to_numpy() #getting all the dates to list format\n",
    "dates = np.unique(all_dates) #get a unique set using set and afterwards convert to list and sort\n",
    "#dates = np.sort(dates)\n",
    "\n",
    "x_axis_dict = dict(zip(dates,x_range)) # Create a dictionary to transform each date to a representing number\n",
    "\n",
    "x_axis = [x_axis_dict[date] for date in all_dates] # Transform dates to numbers\n",
    "\n",
    "#This way noise can be added to each x-axis point\n",
    "length = len(x_axis)\n",
    "noise = np.random.randn(length,1)*0.1\n",
    "\n",
    "lst = [[x,y] for x,y in zip(x_axis,df_processed.Hast)]\n",
    "\n",
    "lst.sort()\n",
    "\n",
    "jitter = [[lst[i][0] + noise[i],lst[i][1]] for i in range(len(noise))]\n",
    "\n",
    "fig = plt.figure(figsize=(40,40))\n",
    "\n",
    "x = np.array([j[0] for j in jitter]).squeeze()\n",
    "y = np.array([j[1] for j in jitter])\n",
    "\n",
    "assert len(x) == len(y)\n",
    "\n",
    "split = int(len(x)/8)\n",
    "\n",
    "days = [str(day)[5:10] for day in df_processed.Date.unique()]\n",
    "\n",
    "n,m = 0,split\n",
    "mini = -0.5\n",
    "for i in range(8):\n",
    "    maxi = 8*(i+1)+0.5\n",
    "    mask = (x < maxi) & (x > mini)\n",
    "    x_axis = x[mask]\n",
    "    y_axis = y[mask]\n",
    "    \n",
    "    ax = fig.add_subplot(4,2,i+1)\n",
    "    ax.plot(x_axis,y_axis,'ro',fillstyle='none')\n",
    "    \n",
    "    x_max = int(maxi-0.5)+1\n",
    "    x_min = int(mini+0.5)\n",
    "    \n",
    "    ax.set_xticks(range(x_min,x_max))\n",
    "    ax.set_xticklabels(days[x_min:x_max])\n",
    "    \n",
    "    mini = maxi"
   ]
  },
  {
   "cell_type": "markdown",
   "metadata": {},
   "source": [
    "There is a lot of outliers there simply cant be right. Busses are maximum allowed to drive 80 km/t on motorways and assuming they sometimes drive up to 10 km/t more than they are allowed then all over 90 km/t is removed from the dataset. "
   ]
  },
  {
   "cell_type": "code",
   "execution_count": null,
   "metadata": {},
   "outputs": [],
   "source": [
    "#removing everything over 90 km/t and below 0 is removed. \n",
    "\n",
    "df_processed = df_processed[(df_processed.Hast <= 90) & (df_processed.Hast >= 0)]"
   ]
  },
  {
   "cell_type": "code",
   "execution_count": null,
   "metadata": {},
   "outputs": [],
   "source": [
    "import matplotlib.pyplot as plt"
   ]
  },
  {
   "cell_type": "code",
   "execution_count": null,
   "metadata": {
    "scrolled": true
   },
   "outputs": [],
   "source": [
    "#Creating a range of numbers representing each data\n",
    "x_range = range(len(df_processed.Date.unique()))\n",
    "all_dates = df_processed.Date.to_numpy() #getting all the dates to list format\n",
    "dates = np.unique(all_dates) #get a unique set using set and afterwards convert to list and sort\n"
   ]
  },
  {
   "cell_type": "code",
   "execution_count": null,
   "metadata": {
    "scrolled": false
   },
   "outputs": [],
   "source": [
    "#Creating a range of numbers representing each data\n",
    "x_range = range(len(df_processed.Date.unique()))\n",
    "all_dates = df_processed.Date.to_numpy() #getting all the dates to list format\n",
    "dates = np.unique(all_dates) #get a unique set using set and afterwards convert to list and sort\n",
    "#dates = np.sort(dates)\n",
    "\n",
    "x_axis_dict = dict(zip(dates,x_range)) # Create a dictionary to transform each date to a representing number\n",
    "\n",
    "x_axis = [x_axis_dict[date] for date in all_dates] # Transform dates to numbers\n",
    "\n",
    "#This way noise can be added to each x-axis point\n",
    "length = len(x_axis)\n",
    "noise = np.random.randn(length,1)*0.1\n",
    "\n",
    "lst = [[x,y] for x,y in zip(x_axis,df_processed.Hast)]\n",
    "\n",
    "lst.sort()\n",
    "\n",
    "jitter = [[lst[i][0] + noise[i],lst[i][1]] for i in range(len(noise))]"
   ]
  },
  {
   "cell_type": "code",
   "execution_count": null,
   "metadata": {
    "scrolled": false
   },
   "outputs": [],
   "source": [
    "fig = plt.figure(figsize=(40,40))\n",
    "\n",
    "x = np.array([j[0] for j in jitter]).squeeze()\n",
    "y = np.array([j[1] for j in jitter])\n",
    "\n",
    "assert len(x) == len(y)\n",
    "\n",
    "split = int(len(x)/8)\n",
    "\n",
    "days = [str(day)[5:10] for day in df_processed.Date.unique()]\n",
    "\n",
    "n,m = 0,split\n",
    "mini = -0.5\n",
    "for i in range(8):\n",
    "    maxi = 8*(i+1)+0.5\n",
    "    mask = (x < maxi) & (x > mini)\n",
    "    x_axis = x[mask]\n",
    "    y_axis = y[mask]\n",
    "    \n",
    "    ax = fig.add_subplot(4,2,i+1)\n",
    "    ax.plot(x_axis,y_axis,'ro',fillstyle='none')\n",
    "    \n",
    "    x_max = int(maxi-0.5)+1\n",
    "    x_min = int(mini+0.5)\n",
    "    \n",
    "    ax.set_xticks(range(x_min,x_max))\n",
    "    ax.set_xticklabels(days[x_min:x_max])\n",
    "    \n",
    "    mini = maxi\n",
    "\n",
    "\n",
    "#plt.plot(x,y,'ro',fillstyle='none')\n"
   ]
  },
  {
   "cell_type": "markdown",
   "metadata": {},
   "source": [
    "## Evt. tilføj histogram over distributioner. Kan være median er bedre en gennemsnit"
   ]
  },
  {
   "cell_type": "code",
   "execution_count": null,
   "metadata": {
    "scrolled": false
   },
   "outputs": [],
   "source": [
    "mini = -0.5\n",
    "boxplot=[]\n",
    "for i in range(int(max(x_axis))):\n",
    "    maxi = i + 0.5\n",
    "    mask = (x < maxi) & (x > mini)\n",
    "    y_axis = y[mask]\n",
    "    \n",
    "    mini = maxi\n",
    "    \n",
    "    boxplot += [y_axis]\n",
    "\n",
    "fig = plt.figure(figsize=(40,40))\n",
    "\n",
    "mini = 0\n",
    "for i in range(8):\n",
    "    maxi = (i+1)*8\n",
    "    ax = fig.add_subplot(4,2,i+1)\n",
    "    ax.boxplot(boxplot[mini:maxi])\n",
    "    \n",
    "    x_max = int(maxi-0.5)+1\n",
    "    x_min = int(mini+0.5)\n",
    "    \n",
    "    ax.set_xticks(range(1,9))\n",
    "    ax.set_xticklabels(days[x_min:x_max])\n",
    "    \n",
    "    mini = maxi\n",
    "    \n",
    "\n",
    "plt.show()"
   ]
  },
  {
   "cell_type": "markdown",
   "metadata": {},
   "source": [
    "#### Removing first two days because the amount of missing makes the speed appear higher than it is realistic"
   ]
  },
  {
   "cell_type": "code",
   "execution_count": null,
   "metadata": {},
   "outputs": [],
   "source": [
    "df_processed = df_processed[df_processed.Date > \"2020-02-03\"]"
   ]
  },
  {
   "cell_type": "markdown",
   "metadata": {},
   "source": [
    "# Interactive timeseries plot for all municipalities together"
   ]
  },
  {
   "cell_type": "code",
   "execution_count": null,
   "metadata": {},
   "outputs": [],
   "source": [
    "all_speed = df_processed.groupby([\"Date\"]).mean()\n",
    "\n",
    "all_speed = all_speed.reset_index()\n",
    "\n",
    "day_dict = dict(zip(range(8),[\"Monday\",\"Tuesday\",\"Wednesday\",\"Thursday\",\"Friday\",\"Saturday\",\"Sunday\"]))\n",
    "\n",
    "day_names = [day_dict[d] for d in all_speed.Date.dt.dayofweek]\n",
    "\n",
    "all_speed[\"DayOfWeek\"] = day_names\n",
    "\n",
    "all_speed"
   ]
  },
  {
   "cell_type": "code",
   "execution_count": null,
   "metadata": {},
   "outputs": [],
   "source": [
    "from bokeh.io import show, output_notebook, output_file\n",
    "from bokeh.plotting import figure\n",
    "from bokeh.models import ColumnDataSource, FactorRange, Legend, HoverTool, DatetimeTickFormatter, BoxAnnotation, Toggle, Label\n",
    "from bokeh.transform import dodge\n",
    "from bokeh.layouts import layout\n",
    "from matplotlib.pyplot import viridis\n",
    "import bokeh.palettes\n",
    "from bokeh.embed import file_html\n",
    "from bokeh.resources import CDN\n",
    "output_notebook()"
   ]
  },
  {
   "cell_type": "code",
   "execution_count": null,
   "metadata": {},
   "outputs": [],
   "source": [
    "source = ColumnDataSource(all_speed)\n",
    "\n",
    "p = figure(plot_width=775, plot_height=300, x_axis_type=\"datetime\",toolbar_location=None,\n",
    "          y_range=(25,32)\n",
    "          )\n",
    "p.title.text = 'Avg. speed per day in Copenhagen'\n",
    "\n",
    "color = bokeh.palettes.Category20[3]\n",
    "\n",
    "legend_it = []\n",
    "\n",
    "r = p.line(\"Date\",\n",
    "           \"Hast\",\n",
    "           line_width=2,\n",
    "           color=color[1],\n",
    "           alpha=0.8,\n",
    "           muted_color=color[1],\n",
    "           muted_alpha=0.2,\n",
    "           visible=True,\n",
    "           source=source)\n",
    "\n",
    "p.yaxis.axis_label = 'Speed in km/t'\n",
    "\n",
    "\n",
    "hover = HoverTool(tooltips=[\n",
    "    ('Speed: ', '@Hast km/t'),\n",
    "    (\"Date: \", '@Date{%d-%m}'),\n",
    "    (\"Day: \",'@DayOfWeek')],\n",
    "    formatters = {'@Date':'datetime'},\n",
    "    renderers=[r],\n",
    "    mode=\"vline\")\n",
    "\n",
    "p.add_tools(hover)\n",
    "\n",
    "lockdown1_start = pd.to_datetime('20200313')\n",
    "lockdown1_end = pd.to_datetime('20200318')\n",
    "\n",
    "lockdown2_start = pd.to_datetime('20200318')\n",
    "lockdown2_end = pd.to_datetime('20200415')\n",
    "\n",
    "easter_start = pd.to_datetime('20200404')\n",
    "easter_end = pd.to_datetime('20200412')\n",
    "\n",
    "reopening_start = pd.to_datetime('20200415')\n",
    "reopening_end = pd.to_datetime('20200421')\n",
    "\n",
    "\n",
    "lockdown1 = BoxAnnotation(left=lockdown1_start, right=lockdown1_end, \n",
    "                          fill_color='red', fill_alpha=0.1,visible=True)\n",
    "lockdown2 = BoxAnnotation(left=lockdown2_start, right=lockdown2_end, \n",
    "                           fill_color='red', fill_alpha=0.2,visible=True)\n",
    "\n",
    "easter = BoxAnnotation(left=easter_start, right=easter_end, \n",
    "                       fill_color='yellow', fill_alpha=0.2,visible=True)\n",
    "\n",
    "reopening = BoxAnnotation(left=reopening_start, right=reopening_end, \n",
    "                       fill_color='green', fill_alpha=0.1,visible=True)\n",
    "\n",
    "p.add_layout(lockdown1)\n",
    "p.add_layout(lockdown2)\n",
    "p.add_layout(easter)\n",
    "p.add_layout(reopening)\n",
    "\n",
    "#toggle1 = Toggle(label=\"Lockdown vol. 1\", button_type=\"success\", active=True)\n",
    "#toggle1.js_link('active', lockdown1, 'visible')\n",
    "\n",
    "#toggle2 = Toggle(label=\"Lockdown vol. 2\", button_type=\"success\", active=True)\n",
    "#toggle2.js_link('active', lockdown2, 'visible')\n",
    "\n",
    "#toggle3 = Toggle(label=\"Easter Break\",button_type=\"success\",active=True)\n",
    "#toggle3.js_link('active', easter, 'visible')\n",
    "\n",
    "#toggle4 = Toggle(label=\"Denmarks start reopening\",button_type=\"success\",active=True)\n",
    "#toggle4.js_link('active', reopening, 'visible')\n",
    "\n",
    "#show(layout([p], [toggle1,toggle2,toggle4]))\n",
    "\n",
    "lockdown1_cit = Label(x=250, y=230, x_units='screen', y_units='screen',\n",
    "                 text='First step of lockdown', render_mode='canvas',\n",
    "                 border_line_color='black', border_line_alpha=1.0,\n",
    "                 background_fill_color='white', background_fill_alpha=1.0,\n",
    "                 text_font_size='8pt')\n",
    "\n",
    "lockdown2_cit = Label(x=277, y=210, x_units='screen', y_units='screen',\n",
    "                 text='Second step of lockdown', render_mode='canvas',\n",
    "                 border_line_color='black', border_line_alpha=1.0,\n",
    "                 background_fill_color='white', background_fill_alpha=1.0,\n",
    "                 text_font_size='8pt')\n",
    "\n",
    "easter_cit = Label(x=483, y=230, x_units='screen', y_units='screen',\n",
    "                 text='Easter Break', render_mode='canvas',\n",
    "                 border_line_color='black', border_line_alpha=1.0,\n",
    "                 background_fill_color='white', background_fill_alpha=1.0,\n",
    "                 text_font_size='8pt')\n",
    "\n",
    "opening_cit = Label(x=600, y=230, x_units='screen', y_units='screen',\n",
    "                 text='Opening', render_mode='canvas',\n",
    "                 border_line_color='black', border_line_alpha=1.0,\n",
    "                 background_fill_color='white', background_fill_alpha=1.0,\n",
    "                 text_font_size='8pt')\n",
    "\n",
    "\n",
    "p.add_layout(lockdown1_cit)\n",
    "p.add_layout(lockdown2_cit)\n",
    "p.add_layout(easter_cit)\n",
    "p.add_layout(opening_cit)\n",
    "\n",
    "show(p)\n",
    "\n",
    "\n",
    "\n",
    "#output_file(\"interactive_legend.html\", title=\"interactive_legend.py example\")"
   ]
  },
  {
   "cell_type": "markdown",
   "metadata": {},
   "source": [
    "https://docs.bokeh.org/en/latest/docs/user_guide/styling.html"
   ]
  },
  {
   "cell_type": "markdown",
   "metadata": {},
   "source": [
    "# Timeseries plot for each municipality"
   ]
  },
  {
   "cell_type": "code",
   "execution_count": null,
   "metadata": {
    "scrolled": true
   },
   "outputs": [],
   "source": [
    "allMuns = df_processed.groupby([\"Kommune\",\"Date\"]).mean()\n",
    "allMuns = allMuns.unstack()['Hast'].transpose()\n",
    "\n",
    "allMuns = allMuns.reset_index()\n",
    "\n",
    "day_dict = dict(zip(range(8),[\"Monday\",\"Tuesday\",\"Wednesday\",\"Thursday\",\"Friday\",\"Saturday\",\"Sunday\"]))\n",
    "\n",
    "day_names = [day_dict[d] for d in all_speed.Date.dt.dayofweek]\n",
    "\n",
    "allMuns[\"DayOfWeek\"] = day_names\n",
    "\n",
    "allMuns.sample(5)"
   ]
  },
  {
   "cell_type": "code",
   "execution_count": null,
   "metadata": {
    "scrolled": false
   },
   "outputs": [],
   "source": [
    "source = ColumnDataSource(allMuns)\n",
    "p = figure(plot_width=1000, plot_height=450, x_axis_type=\"datetime\",toolbar_location=None)\n",
    "p.title.text = 'Avg. speed per day for municipalities in the Urban Area of Copenhagen'\n",
    "\n",
    "colors = bokeh.palettes.Category20[len(sel_mun)]\n",
    "\n",
    "renderers = [0]*(len(sel_mun))\n",
    "legend_it = []\n",
    "                 \n",
    "for name, color, idx in zip(sel_mun,colors,range(len(sel_mun))):\n",
    "    renderers[idx] = p.line(\"Date\",\n",
    "                           name,\n",
    "                           line_width=2,\n",
    "                           color=color,\n",
    "                           alpha=0.8,\n",
    "                           muted_color=color,\n",
    "                           muted_alpha=0.2,\n",
    "                           visible=False,\n",
    "                           source=source)\n",
    "    legend_it.append((name, [renderers[idx]]))\n",
    "    \n",
    "legend = Legend(items=legend_it, location=(0, -5))\n",
    "legend.click_policy=\"hide\"\n",
    "legend.title = 'To see a graph click on the municipality below'\n",
    "\n",
    "p.add_layout(legend, 'right')\n",
    "p.yaxis.axis_label = 'Avg. speed in km/t'\n",
    "\n",
    "for kommune,r in zip(sel_mun,renderers):\n",
    "    hover = HoverTool(tooltips=[\n",
    "    (\"Name: \", kommune),\n",
    "    ('Speed: ', '@{%s} km/t' %kommune),\n",
    "    (\"Date: \", '@Date{%d-%m}'),\n",
    "    (\"Day: \",'@DayOfWeek')],\n",
    "        formatters = {'@Date':'datetime'},\n",
    "        renderers=[r],\n",
    "        mode=\"vline\")\n",
    "    p.add_tools(hover)\n",
    "    \n",
    "lockdown1_start = pd.to_datetime('20200313')\n",
    "lockdown1_end = pd.to_datetime('20200318')\n",
    "\n",
    "lockdown2_start = pd.to_datetime('20200318')\n",
    "lockdown2_end = pd.to_datetime('20200415')\n",
    "\n",
    "easter_start = pd.to_datetime('20200404')\n",
    "easter_end = pd.to_datetime('20200412')\n",
    "\n",
    "reopening_start = pd.to_datetime('20200415')\n",
    "reopening_end = pd.to_datetime('20200421')\n",
    "\n",
    "\n",
    "lockdown1 = BoxAnnotation(left=lockdown1_start, right=lockdown1_end, \n",
    "                          fill_color='red', fill_alpha=0.1,visible=True)\n",
    "lockdown2 = BoxAnnotation(left=lockdown2_start, right=lockdown2_end, \n",
    "                           fill_color='red', fill_alpha=0.2,visible=True)\n",
    "\n",
    "easter = BoxAnnotation(left=easter_start, right=easter_end, \n",
    "                       fill_color='yellow', fill_alpha=0.2,visible=True)\n",
    "\n",
    "reopening = BoxAnnotation(left=reopening_start, right=reopening_end, \n",
    "                       fill_color='green', fill_alpha=0.1,visible=True)\n",
    "\n",
    "p.add_layout(lockdown1)\n",
    "p.add_layout(lockdown2)\n",
    "p.add_layout(easter)\n",
    "p.add_layout(reopening)\n",
    "\n",
    "lockdown1_cit = Label(x=216, y=370, x_units='screen', y_units='screen',\n",
    "                 text='First step of lockdown', render_mode='canvas',\n",
    "                 border_line_color='black', border_line_alpha=1.0,\n",
    "                 background_fill_color='white', background_fill_alpha=1.0,\n",
    "                 text_font_size='8pt')\n",
    "\n",
    "lockdown2_cit = Label(x=236, y=350, x_units='screen', y_units='screen',\n",
    "                 text='Second step of lockdown', render_mode='canvas',\n",
    "                 border_line_color='black', border_line_alpha=1.0,\n",
    "                 background_fill_color='white', background_fill_alpha=1.0,\n",
    "                 text_font_size='8pt')\n",
    "\n",
    "easter_cit = Label(x=426, y=370, x_units='screen', y_units='screen',\n",
    "                 text='Easter Break', render_mode='canvas',\n",
    "                 border_line_color='black', border_line_alpha=1.0,\n",
    "                 background_fill_color='white', background_fill_alpha=1.0,\n",
    "                 text_font_size='8pt')\n",
    "\n",
    "opening_cit = Label(x=534, y=370, x_units='screen', y_units='screen',\n",
    "                 text='Opening', render_mode='canvas',\n",
    "                 border_line_color='black', border_line_alpha=1.0,\n",
    "                 background_fill_color='white', background_fill_alpha=1.0,\n",
    "                 text_font_size='8pt')\n",
    "\n",
    "\n",
    "p.add_layout(lockdown1_cit)\n",
    "p.add_layout(lockdown2_cit)\n",
    "p.add_layout(easter_cit)\n",
    "p.add_layout(opening_cit)\n",
    "\n",
    "\n",
    "show(p)\n",
    "\n",
    "output = output_file(\"interactive_legend.html\", title=\"interactive_legend.py example\")"
   ]
  },
  {
   "cell_type": "code",
   "execution_count": null,
   "metadata": {},
   "outputs": [],
   "source": [
    "html = file_html(p,CDN,\"Speed vs. Time per municipality\")"
   ]
  },
  {
   "cell_type": "markdown",
   "metadata": {},
   "source": [
    "# Saving avg. speed per day for each municipality for choropleth map"
   ]
  },
  {
   "cell_type": "code",
   "execution_count": null,
   "metadata": {},
   "outputs": [],
   "source": [
    "allMuns.to_csv(os.path.join(path,\"speedPerMun.csv\"),encoding=\"utf-8\",sep=\";\",index=False)"
   ]
  }
 ],
 "metadata": {
  "kernelspec": {
   "display_name": "Python 3",
   "language": "python",
   "name": "python3"
  },
  "language_info": {
   "codemirror_mode": {
    "name": "ipython",
    "version": 3
   },
   "file_extension": ".py",
   "mimetype": "text/x-python",
   "name": "python",
   "nbconvert_exporter": "python",
   "pygments_lexer": "ipython3",
   "version": "3.7.6"
  }
 },
 "nbformat": 4,
 "nbformat_minor": 4
}
