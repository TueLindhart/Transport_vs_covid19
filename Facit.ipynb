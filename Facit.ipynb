{
 "cells": [
  {
   "cell_type": "markdown",
   "metadata": {},
   "source": [
    "A high decrease in passengers is most probable because *Day/Night Ratio* and *median age* points in the **same** direction as *passenger change* and therefore needs to be **above average** while the rest point in the **opposite** direction and therefore needs to be **below** average. We checked 4 out of 7 boxes where we checked off *Day/Night Ratio* which weigh in a lot. So therefore a high decrease in passengers is most probable. "
   ]
  },
  {
   "cell_type": "code",
   "execution_count": null,
   "metadata": {},
   "outputs": [],
   "source": []
  }
 ],
 "metadata": {
  "hide_input": false,
  "kernelspec": {
   "display_name": "Python 3",
   "language": "python",
   "name": "python3"
  },
  "language_info": {
   "codemirror_mode": {
    "name": "ipython",
    "version": 3
   },
   "file_extension": ".py",
   "mimetype": "text/x-python",
   "name": "python",
   "nbconvert_exporter": "python",
   "pygments_lexer": "ipython3",
   "version": "3.7.6"
  }
 },
 "nbformat": 4,
 "nbformat_minor": 4
}
